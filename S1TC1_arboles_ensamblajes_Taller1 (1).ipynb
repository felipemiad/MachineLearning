{
 "cells": [
  {
   "cell_type": "markdown",
   "metadata": {},
   "source": [
    "![image info](https://raw.githubusercontent.com/albahnsen/MIAD_ML_and_NLP/main/images/banner_1.png)"
   ]
  },
  {
   "cell_type": "markdown",
   "metadata": {},
   "source": [
    "# Taller: Construcción e implementación de árboles de decisión y métodos de ensamblaje\n",
    "\n",
    "En este taller podrá poner en práctica los sus conocimientos sobre construcción e implementación de árboles de decisión y métodos de ensamblajes. El taller está constituido por 9 puntos, 5 relacionados con árboles de decisión (parte A) y 4 con métodos de ensamblaje (parte B)."
   ]
  },
  {
   "cell_type": "markdown",
   "metadata": {},
   "source": [
    "## Parte A - Árboles de decisión\n",
    "\n",
    "En esta parte del taller se usará el conjunto de datos de Capital Bikeshare de Kaggle, donde cada observación representa el alquiler de bicicletas durante una hora y día determinado. Para más detalles puede visitar los siguientes enlaces: [datos](https://archive.ics.uci.edu/ml/machine-learning-databases/00275/Bike-Sharing-Dataset.zip), [dicccionario de datos](https://archive.ics.uci.edu/ml/datasets/Bike+Sharing+Dataset#)."
   ]
  },
  {
   "cell_type": "markdown",
   "metadata": {},
   "source": [
    "### Datos prestamo de bicicletas"
   ]
  },
  {
   "cell_type": "code",
   "execution_count": 1,
   "metadata": {},
   "outputs": [],
   "source": [
    "import warnings\n",
    "warnings.filterwarnings('ignore')"
   ]
  },
  {
   "cell_type": "code",
   "execution_count": 2,
   "metadata": {},
   "outputs": [],
   "source": [
    "# Importación de librerías\n",
    "%matplotlib inline\n",
    "import pandas as pd\n",
    "import numpy as np\n",
    "from sklearn.model_selection import cross_val_score\n",
    "from sklearn.linear_model import LinearRegression\n",
    "from sklearn.tree import DecisionTreeRegressor, export_graphviz"
   ]
  },
  {
   "cell_type": "code",
   "execution_count": 3,
   "metadata": {},
   "outputs": [
    {
     "data": {
      "text/html": [
       "<div>\n",
       "<style scoped>\n",
       "    .dataframe tbody tr th:only-of-type {\n",
       "        vertical-align: middle;\n",
       "    }\n",
       "\n",
       "    .dataframe tbody tr th {\n",
       "        vertical-align: top;\n",
       "    }\n",
       "\n",
       "    .dataframe thead th {\n",
       "        text-align: right;\n",
       "    }\n",
       "</style>\n",
       "<table border=\"1\" class=\"dataframe\">\n",
       "  <thead>\n",
       "    <tr style=\"text-align: right;\">\n",
       "      <th></th>\n",
       "      <th>season</th>\n",
       "      <th>holiday</th>\n",
       "      <th>workingday</th>\n",
       "      <th>weather</th>\n",
       "      <th>temp</th>\n",
       "      <th>atemp</th>\n",
       "      <th>humidity</th>\n",
       "      <th>windspeed</th>\n",
       "      <th>casual</th>\n",
       "      <th>registered</th>\n",
       "      <th>total</th>\n",
       "      <th>hour</th>\n",
       "    </tr>\n",
       "    <tr>\n",
       "      <th>datetime</th>\n",
       "      <th></th>\n",
       "      <th></th>\n",
       "      <th></th>\n",
       "      <th></th>\n",
       "      <th></th>\n",
       "      <th></th>\n",
       "      <th></th>\n",
       "      <th></th>\n",
       "      <th></th>\n",
       "      <th></th>\n",
       "      <th></th>\n",
       "      <th></th>\n",
       "    </tr>\n",
       "  </thead>\n",
       "  <tbody>\n",
       "    <tr>\n",
       "      <th>2012-12-19 19:00:00</th>\n",
       "      <td>4</td>\n",
       "      <td>0</td>\n",
       "      <td>1</td>\n",
       "      <td>1</td>\n",
       "      <td>15.58</td>\n",
       "      <td>19.695</td>\n",
       "      <td>50</td>\n",
       "      <td>26.0027</td>\n",
       "      <td>7</td>\n",
       "      <td>329</td>\n",
       "      <td>336</td>\n",
       "      <td>19</td>\n",
       "    </tr>\n",
       "    <tr>\n",
       "      <th>2012-12-19 20:00:00</th>\n",
       "      <td>4</td>\n",
       "      <td>0</td>\n",
       "      <td>1</td>\n",
       "      <td>1</td>\n",
       "      <td>14.76</td>\n",
       "      <td>17.425</td>\n",
       "      <td>57</td>\n",
       "      <td>15.0013</td>\n",
       "      <td>10</td>\n",
       "      <td>231</td>\n",
       "      <td>241</td>\n",
       "      <td>20</td>\n",
       "    </tr>\n",
       "    <tr>\n",
       "      <th>2012-12-19 21:00:00</th>\n",
       "      <td>4</td>\n",
       "      <td>0</td>\n",
       "      <td>1</td>\n",
       "      <td>1</td>\n",
       "      <td>13.94</td>\n",
       "      <td>15.910</td>\n",
       "      <td>61</td>\n",
       "      <td>15.0013</td>\n",
       "      <td>4</td>\n",
       "      <td>164</td>\n",
       "      <td>168</td>\n",
       "      <td>21</td>\n",
       "    </tr>\n",
       "    <tr>\n",
       "      <th>2012-12-19 22:00:00</th>\n",
       "      <td>4</td>\n",
       "      <td>0</td>\n",
       "      <td>1</td>\n",
       "      <td>1</td>\n",
       "      <td>13.94</td>\n",
       "      <td>17.425</td>\n",
       "      <td>61</td>\n",
       "      <td>6.0032</td>\n",
       "      <td>12</td>\n",
       "      <td>117</td>\n",
       "      <td>129</td>\n",
       "      <td>22</td>\n",
       "    </tr>\n",
       "    <tr>\n",
       "      <th>2012-12-19 23:00:00</th>\n",
       "      <td>4</td>\n",
       "      <td>0</td>\n",
       "      <td>1</td>\n",
       "      <td>1</td>\n",
       "      <td>13.12</td>\n",
       "      <td>16.665</td>\n",
       "      <td>66</td>\n",
       "      <td>8.9981</td>\n",
       "      <td>4</td>\n",
       "      <td>84</td>\n",
       "      <td>88</td>\n",
       "      <td>23</td>\n",
       "    </tr>\n",
       "  </tbody>\n",
       "</table>\n",
       "</div>"
      ],
      "text/plain": [
       "                     season  holiday  workingday  weather   temp   atemp  \\\n",
       "datetime                                                                   \n",
       "2012-12-19 19:00:00       4        0           1        1  15.58  19.695   \n",
       "2012-12-19 20:00:00       4        0           1        1  14.76  17.425   \n",
       "2012-12-19 21:00:00       4        0           1        1  13.94  15.910   \n",
       "2012-12-19 22:00:00       4        0           1        1  13.94  17.425   \n",
       "2012-12-19 23:00:00       4        0           1        1  13.12  16.665   \n",
       "\n",
       "                     humidity  windspeed  casual  registered  total  hour  \n",
       "datetime                                                                   \n",
       "2012-12-19 19:00:00        50    26.0027       7         329    336    19  \n",
       "2012-12-19 20:00:00        57    15.0013      10         231    241    20  \n",
       "2012-12-19 21:00:00        61    15.0013       4         164    168    21  \n",
       "2012-12-19 22:00:00        61     6.0032      12         117    129    22  \n",
       "2012-12-19 23:00:00        66     8.9981       4          84     88    23  "
      ]
     },
     "execution_count": 3,
     "metadata": {},
     "output_type": "execute_result"
    }
   ],
   "source": [
    "# Lectura de la información de archivo .csv\n",
    "bikes = pd.read_csv('https://raw.githubusercontent.com/davidzarruk/MIAD_ML_NLP_2023/main/datasets/bikeshare.csv', index_col='datetime', parse_dates=True)\n",
    "\n",
    "# Renombrar variable \"count\" a \"total\"\n",
    "bikes.rename(columns={'count':'total'}, inplace=True)\n",
    "\n",
    "# Crear la hora como una variable \n",
    "bikes['hour'] = bikes.index.hour\n",
    "\n",
    "# Visualización de los datos\n",
    "bikes.tail()"
   ]
  },
  {
   "cell_type": "markdown",
   "metadata": {},
   "source": [
    "### Punto 1 - Análisis descriptivo\n",
    "\n",
    "Ejecute las celdas 1.1 y 1.2. A partir de los resultados realice un análisis descriptivo sobre las variables \"season\" y \"hour\", escriba sus inferencias sobre los datos. Para complementar su análisis puede usar métricas como máximo, mínimo, percentiles entre otros."
   ]
  },
  {
   "cell_type": "code",
   "execution_count": 4,
   "metadata": {},
   "outputs": [
    {
     "name": "stdout",
     "output_type": "stream",
     "text": [
      "\n",
      "Estadísticas de alquiler de bicicletas por estación:\n",
      "        min  max        mean   25%    50%    75%\n",
      "season                                          \n",
      "1         1  801  116.343261  24.0   78.0  164.0\n",
      "2         1  873  215.251372  49.0  172.0  321.0\n",
      "3         1  977  234.417124  68.0  195.0  347.0\n",
      "4         1  948  198.988296  51.0  161.0  294.0\n"
     ]
    }
   ],
   "source": [
    "# Mínimo, máximo y promedio de alquileres por estación\n",
    "season_min = bikes.groupby('season')['total'].min().rename('min')\n",
    "season_max = bikes.groupby('season')['total'].max().rename('max')\n",
    "season_mean = bikes.groupby('season')['total'].mean().rename('mean')\n",
    "\n",
    "# Percentiles por estación\n",
    "percentiles = bikes.groupby('season')['total'].quantile([0.25, 0.50, 0.75]).unstack().rename(columns={0.25: '25%', 0.50: '50%', 0.75: '75%'})\n",
    "\n",
    "# Concatenar los resultados en un DataFrame\n",
    "season_stats = pd.concat([season_min, season_max, season_mean, percentiles], axis=1)\n",
    "print(\"\\nEstadísticas de alquiler de bicicletas por estación:\")\n",
    "print(season_stats)\n"
   ]
  },
  {
   "cell_type": "markdown",
   "metadata": {},
   "source": [
    "En promedio, observamos que la estación 3, correspondiente al verano según el diccionario de datos, es la que registra el mayor número de alquileres de bicicletas, con un promedio de 234 alquileres. Le sigue la estación 2, asociada a la primavera, luego la estación 4 y finalmente la estación 1, correspondientes al otoño e invierno respectivamente.\n",
    "\n",
    "Es interesante notar que todas las estaciones tienen al menos un alquiler como mínimo, mientras que en verano se registra el máximo de 977 alquileres. Sin embargo, este valor máximo en verano podría considerarse atípico, ya que el percentil del 75% nos indica que el 75% de los días en verano tienen menos de 347 alquileres, lo que sugiere una posible presencia de datos atípicos en este conjunto de datos.\n",
    "\n",
    "En conclusión podemos inferir que verena por el excelente clima es cuando las personas mas se movilizan en bici, en invierno muchas personas deciden no usar el servicio por lo que cae considerablemente."
   ]
  },
  {
   "cell_type": "code",
   "execution_count": 5,
   "metadata": {},
   "outputs": [
    {
     "name": "stdout",
     "output_type": "stream",
     "text": [
      "\n",
      "Estadísticas de alquiler de bicicletas por hora:\n",
      "      min  max        mean     25%    50%     75%\n",
      "hour                                             \n",
      "0       2  283   55.138462   24.00   41.0   74.50\n",
      "1       1  168   33.859031   11.00   19.0   46.00\n",
      "2       1  119   22.899554    5.00   11.0   32.00\n",
      "3       1   66   11.757506    3.00    6.0   15.00\n",
      "4       1   28    6.407240    3.00    6.0    9.00\n",
      "5       1   57   19.767699    8.00   19.0   29.00\n",
      "6       1  213   76.259341   24.50   75.0  118.00\n",
      "7       1  596  213.116484   63.00  208.0  334.00\n",
      "8       8  839  362.769231  133.50  392.0  563.50\n",
      "9      14  414  221.780220  161.00  217.0  294.50\n",
      "10     17  539  175.092308  106.00  149.0  218.50\n",
      "11     10  647  210.674725  123.00  183.0  265.50\n",
      "12      3  757  256.508772  157.00  234.5  332.00\n",
      "13     11  729  257.787281  154.00  226.5  329.00\n",
      "14     12  730  243.442982  144.00  212.0  311.25\n",
      "15      7  724  254.298246  154.00  232.0  331.00\n",
      "16     11  783  316.372807  211.75  309.5  421.00\n",
      "17     15  970  468.765351  277.00  480.5  608.50\n",
      "18     23  977  430.859649  240.75  422.5  564.00\n",
      "19     11  743  315.278509  190.00  312.5  416.00\n",
      "20     11  551  228.517544  136.75  224.0  302.00\n",
      "21      6  584  173.370614  103.50  171.5  230.00\n",
      "22      9  502  133.576754   80.00  129.0  175.00\n",
      "23      4  256   89.508772   52.75   80.0  123.00\n"
     ]
    }
   ],
   "source": [
    "# Mínimo, máximo y promedio de alquileres por hora\n",
    "season_min = bikes.groupby('hour')['total'].min().rename('min')\n",
    "season_max = bikes.groupby('hour')['total'].max().rename('max')\n",
    "season_mean = bikes.groupby('hour')['total'].mean().rename('mean')\n",
    "\n",
    "# Percentiles por hora\n",
    "percentiles = bikes.groupby('hour')['total'].quantile([0.25, 0.50, 0.75]).unstack().rename(columns={0.25: '25%', 0.50: '50%', 0.75: '75%'})\n",
    "\n",
    "# Concatenar los resultados en un DataFrame\n",
    "season_stats = pd.concat([season_min, season_max, season_mean, percentiles], axis=1)\n",
    "print(\"\\nEstadísticas de alquiler de bicicletas por hora:\")\n",
    "print(season_stats)\n"
   ]
  },
  {
   "cell_type": "markdown",
   "metadata": {},
   "source": [
    "En promedio, observamos que las 17 horas es el momento del día que registra el mayor número de alquileres de bicicletas, con un promedio de aproximadamente 469 alquileres. Le sigue las 18 horas en segundo lugar. Sorprendentemente, a las 4 de la mañana se registra el mínimo de alquileres, con un promedio de solo 6 bicicletas. Este hallazgo es interesante, ya que comúnmente se esperaría que la medianoche fuera la hora con menos actividad. Sin embargo, al analizar más a fondo, parece que muchas personas salen tarde, lo que explica por qué estas horas tempranas de la madrugada tienen tan poca demanda de alquileres.\n",
    "\n",
    "En conclusión se puede inferir que hay dos momento pico uno en la mañana y otro en la tarde, por lo cual se debe dar al horario comun laboral de la mayoria de personas. Por ende deben ser empleados los que mas usan el servicio. "
   ]
  },
  {
   "cell_type": "markdown",
   "metadata": {},
   "source": [
    "### Punto 2 - Análisis de gráficos\n",
    "\n",
    "Primero ejecute la celda 2.1 y asegúrese de comprender el código y el resultado. Luego, en cada una de celdas 2.2 y 2.3 escriba un código que genere una gráfica del número de bicicletas rentadas promedio para cada valor de la variable \"hour\" (hora) cuando la variable \"season\" es igual a 1 (invierno) e igual a 3 (verano), respectivamente. Analice y escriba sus hallazgos."
   ]
  },
  {
   "cell_type": "code",
   "execution_count": 6,
   "metadata": {},
   "outputs": [
    {
     "data": {
      "image/png": "[encoded data removed]",
      "text/plain": [
       "<Figure size 432x288 with 1 Axes>"
      ]
     },
     "metadata": {
      "needs_background": "light"
     },
     "output_type": "display_data"
    }
   ],
   "source": [
    "import matplotlib.pyplot as plt\n",
    "\n",
    "# Celda 2.1 - rentas promedio para cada valor de la variable \"hour\"\n",
    "bikes.groupby('hour').total.mean().plot()\n",
    "plt.title('Rentas promedio por hora')\n",
    "plt.xlabel('Hora del día')\n",
    "plt.ylabel('Rentas promedio')\n",
    "plt.show()"
   ]
  },
  {
   "cell_type": "markdown",
   "metadata": {},
   "source": [
    "Vemos como tiene tendencias de uso lo que fortalece el analisis descriptivo, vemos como 8 am y 17 y 18 pm se llegan a los picos."
   ]
  },
  {
   "cell_type": "code",
   "execution_count": 7,
   "metadata": {},
   "outputs": [
    {
     "data": {
      "image/png": "[encoded data removed]",
      "text/plain": [
       "<Figure size 432x288 with 1 Axes>"
      ]
     },
     "metadata": {
      "needs_background": "light"
     },
     "output_type": "display_data"
    }
   ],
   "source": [
    "# Celda 2.2 - \"season\"=1 escriba su código y hallazgos \n",
    "bikes[bikes['season'] == 1].groupby('hour').total.mean().plot()\n",
    "plt.title('Rentas promedio por hora en invierno')\n",
    "plt.xlabel('Hora del día')\n",
    "plt.ylabel('Rentas promedio')\n",
    "plt.show()"
   ]
  },
  {
   "cell_type": "code",
   "execution_count": 8,
   "metadata": {},
   "outputs": [
    {
     "data": {
      "image/png": "[encoded data removed]",
      "text/plain": [
       "<Figure size 432x288 with 1 Axes>"
      ]
     },
     "metadata": {
      "needs_background": "light"
     },
     "output_type": "display_data"
    }
   ],
   "source": [
    "# Celda 2.3 - \"season\"=3 escriba su código y hallazgos \n",
    "bikes[bikes['season'] == 3].groupby('hour').total.mean().plot()\n",
    "plt.title('Rentas promedio por hora en verano')\n",
    "plt.xlabel('Hora del día')\n",
    "plt.ylabel('Rentas promedio')\n",
    "plt.show()"
   ]
  },
  {
   "cell_type": "markdown",
   "metadata": {},
   "source": [
    "Se puede concluir que existen patrones claros en las horas que no se modifican por las estaciones, lo cual puede interpretarse debido a las rutinas laborales. Por ejemplo, una persona que llega a la oficina a las 9 am utilizará la bicicleta alrededor de las 8 am independientemente de la estación del año. Sin embargo, se observan diferencias en las escalas de uso entre las estaciones. En invierno, la cantidad promedio de alquileres baja significativamente, con un máximo de alrededor de 275 alquileres en la hora pico. En cambio, en verano, en la hora pico se alcanzan alrededor de 530 alquileres en promedio. Estas diferencias son claras debido a las condiciones climáticas. "
   ]
  },
  {
   "cell_type": "markdown",
   "metadata": {},
   "source": [
    "### Punto 3 - Regresión lineal\n",
    "En la celda 3 ajuste un modelo de regresión lineal a todo el conjunto de datos, utilizando \"total\" como variable de respuesta y \"season\" y \"hour\" como las únicas variables predictoras, teniendo en cuenta que la variable \"season\" es categórica. Luego, imprima los coeficientes e interprételos. ¿Cuáles son las limitaciones de la regresión lineal en este caso?"
   ]
  },
  {
   "cell_type": "code",
   "execution_count": 9,
   "metadata": {},
   "outputs": [
    {
     "name": "stdout",
     "output_type": "stream",
     "text": [
      "                            OLS Regression Results                            \n",
      "==============================================================================\n",
      "Dep. Variable:                  total   R-squared:                       0.223\n",
      "Model:                            OLS   Adj. R-squared:                  0.223\n",
      "Method:                 Least Squares   F-statistic:                     782.5\n",
      "Date:                Mon, 08 Apr 2024   Prob (F-statistic):               0.00\n",
      "Time:                        00:17:01   Log-Likelihood:                -70669.\n",
      "No. Observations:               10886   AIC:                         1.413e+05\n",
      "Df Residuals:                   10881   BIC:                         1.414e+05\n",
      "Df Model:                           4                                         \n",
      "Covariance Type:            nonrobust                                         \n",
      "==============================================================================\n",
      "                 coef    std err          t      P>|t|      [0.025      0.975]\n",
      "------------------------------------------------------------------------------\n",
      "const         -6.4303      4.016     -1.601      0.109     -14.302       1.442\n",
      "season_2     100.3172      4.338     23.125      0.000      91.814     108.821\n",
      "season_3     119.4675      4.338     27.539      0.000     110.964     127.971\n",
      "season_4      84.0831      4.338     19.384      0.000      75.580      92.586\n",
      "hour          10.5452      0.221     47.653      0.000      10.111      10.979\n",
      "==============================================================================\n",
      "Omnibus:                     2248.215   Durbin-Watson:                   0.479\n",
      "Prob(Omnibus):                  0.000   Jarque-Bera (JB):             4420.137\n",
      "Skew:                           1.250   Prob(JB):                         0.00\n",
      "Kurtosis:                       4.871   Cond. No.                         60.3\n",
      "==============================================================================\n",
      "\n",
      "Notes:\n",
      "[1] Standard Errors assume that the covariance matrix of the errors is correctly specified.\n"
     ]
    }
   ],
   "source": [
    "import pandas as pd\n",
    "import statsmodels.api as sm\n",
    "\n",
    "# Crear variables dummy para la variable \"season\"\n",
    "season_dummies = pd.get_dummies(bikes['season'], prefix='season', drop_first=True)\n",
    "\n",
    "# Concatenar las variables dummy con el DataFrame original\n",
    "bikes = pd.concat([bikes, season_dummies], axis=1)\n",
    "\n",
    "# Ajustar el modelo de regresión lineal\n",
    "X = bikes[['season_2', 'season_3', 'season_4', 'hour']]\n",
    "X = sm.add_constant(X)  # Añadir una constante para el intercepto\n",
    "y = bikes['total']\n",
    "model = sm.OLS(y, X).fit()\n",
    "\n",
    "# Imprimir los coeficientes del modelo\n",
    "print(model.summary())\n",
    "\n"
   ]
  },
  {
   "cell_type": "code",
   "execution_count": 10,
   "metadata": {},
   "outputs": [
    {
     "name": "stdout",
     "output_type": "stream",
     "text": [
      "MSE para el modelo de regresión lineal: 1439616.6505522835\n"
     ]
    }
   ],
   "source": [
    "# Crear un nuevo DataFrame para las variables predictoras\n",
    "from sklearn.metrics import mean_squared_error\n",
    "\n",
    "X = bikes[['season', 'hour']].copy()\n",
    "\n",
    "# Crear variables dummy para la variable \"season\" y concatenarlas con el nuevo DataFrame\n",
    "season_dummies = pd.get_dummies(X['season'], prefix='season', drop_first=True)\n",
    "X = pd.concat([X.drop('season', axis=1), season_dummies], axis=1)\n",
    "\n",
    "# Añadir una constante para el intercepto\n",
    "X = sm.add_constant(X)\n",
    "\n",
    "# Realizar predicciones con el modelo de regresión lineal\n",
    "y_pred_linear = model.predict(X)\n",
    "\n",
    "# Calcular el MSE para el modelo de regresión lineal\n",
    "mse_linear = mean_squared_error(y, y_pred_linear)\n",
    "print(\"MSE para el modelo de regresión lineal:\", mse_linear)"
   ]
  },
  {
   "cell_type": "markdown",
   "metadata": {},
   "source": [
    "La baja R^2 de 22.3% indica que el modelo de regresión lineal no puede explicar completamente la variabilidad en el número total de alquileres de bicicletas. Esto sugiere que la relación entre las variables predictoras y la variable de respuesta podría no ser estrictamente lineal, como se asume en la regresión lineal. Además, es posible que el modelo no esté capturando otros patrones más complejos, como efectos estacionales.\n",
    "\n",
    "Para evitar problemas de multicolinealidad, se utilizó la dumificación con K-1 categorías. Es importante tener en cuenta que, a pesar de este enfoque, el modelo aún puede no ser adecuado para capturar la complejidad de los datos y puede subestimar la verdadera relación entre las variables.\n",
    "\n",
    "Por lo tanto, sería prudente considerar la exploración de modelos más avanzados, como modelos de series temporales o modelos no lineales, que puedan capturar mejor la naturaleza no lineal de los datos y los posibles efectos estacionales. Estos modelos podrían mejorar significativamente la capacidad predictiva en comparación con el modelo de regresión lineal."
   ]
  },
  {
   "cell_type": "markdown",
   "metadata": {},
   "source": [
    "### Punto 4 - Árbol de decisión manual\n",
    "En la celda 4 cree un árbol de decisiones para pronosticar la variable \"total\" iterando **manualmente** sobre las variables \"hour\" y  \"season\". El árbol debe tener al menos 6 nodos finales."
   ]
  },
  {
   "cell_type": "code",
   "execution_count": 11,
   "metadata": {},
   "outputs": [
    {
     "data": {
      "text/html": [
       "<div>\n",
       "<style scoped>\n",
       "    .dataframe tbody tr th:only-of-type {\n",
       "        vertical-align: middle;\n",
       "    }\n",
       "\n",
       "    .dataframe tbody tr th {\n",
       "        vertical-align: top;\n",
       "    }\n",
       "\n",
       "    .dataframe thead th {\n",
       "        text-align: right;\n",
       "    }\n",
       "</style>\n",
       "<table border=\"1\" class=\"dataframe\">\n",
       "  <thead>\n",
       "    <tr style=\"text-align: right;\">\n",
       "      <th></th>\n",
       "      <th>season</th>\n",
       "      <th>holiday</th>\n",
       "      <th>workingday</th>\n",
       "      <th>weather</th>\n",
       "      <th>temp</th>\n",
       "      <th>atemp</th>\n",
       "      <th>humidity</th>\n",
       "      <th>windspeed</th>\n",
       "      <th>casual</th>\n",
       "      <th>registered</th>\n",
       "      <th>total</th>\n",
       "      <th>hour</th>\n",
       "    </tr>\n",
       "    <tr>\n",
       "      <th>datetime</th>\n",
       "      <th></th>\n",
       "      <th></th>\n",
       "      <th></th>\n",
       "      <th></th>\n",
       "      <th></th>\n",
       "      <th></th>\n",
       "      <th></th>\n",
       "      <th></th>\n",
       "      <th></th>\n",
       "      <th></th>\n",
       "      <th></th>\n",
       "      <th></th>\n",
       "    </tr>\n",
       "  </thead>\n",
       "  <tbody>\n",
       "    <tr>\n",
       "      <th>2012-12-19 19:00:00</th>\n",
       "      <td>4</td>\n",
       "      <td>0</td>\n",
       "      <td>1</td>\n",
       "      <td>1</td>\n",
       "      <td>15.58</td>\n",
       "      <td>19.695</td>\n",
       "      <td>50</td>\n",
       "      <td>26.0027</td>\n",
       "      <td>7</td>\n",
       "      <td>329</td>\n",
       "      <td>336</td>\n",
       "      <td>19</td>\n",
       "    </tr>\n",
       "    <tr>\n",
       "      <th>2012-12-19 20:00:00</th>\n",
       "      <td>4</td>\n",
       "      <td>0</td>\n",
       "      <td>1</td>\n",
       "      <td>1</td>\n",
       "      <td>14.76</td>\n",
       "      <td>17.425</td>\n",
       "      <td>57</td>\n",
       "      <td>15.0013</td>\n",
       "      <td>10</td>\n",
       "      <td>231</td>\n",
       "      <td>241</td>\n",
       "      <td>20</td>\n",
       "    </tr>\n",
       "    <tr>\n",
       "      <th>2012-12-19 21:00:00</th>\n",
       "      <td>4</td>\n",
       "      <td>0</td>\n",
       "      <td>1</td>\n",
       "      <td>1</td>\n",
       "      <td>13.94</td>\n",
       "      <td>15.910</td>\n",
       "      <td>61</td>\n",
       "      <td>15.0013</td>\n",
       "      <td>4</td>\n",
       "      <td>164</td>\n",
       "      <td>168</td>\n",
       "      <td>21</td>\n",
       "    </tr>\n",
       "    <tr>\n",
       "      <th>2012-12-19 22:00:00</th>\n",
       "      <td>4</td>\n",
       "      <td>0</td>\n",
       "      <td>1</td>\n",
       "      <td>1</td>\n",
       "      <td>13.94</td>\n",
       "      <td>17.425</td>\n",
       "      <td>61</td>\n",
       "      <td>6.0032</td>\n",
       "      <td>12</td>\n",
       "      <td>117</td>\n",
       "      <td>129</td>\n",
       "      <td>22</td>\n",
       "    </tr>\n",
       "    <tr>\n",
       "      <th>2012-12-19 23:00:00</th>\n",
       "      <td>4</td>\n",
       "      <td>0</td>\n",
       "      <td>1</td>\n",
       "      <td>1</td>\n",
       "      <td>13.12</td>\n",
       "      <td>16.665</td>\n",
       "      <td>66</td>\n",
       "      <td>8.9981</td>\n",
       "      <td>4</td>\n",
       "      <td>84</td>\n",
       "      <td>88</td>\n",
       "      <td>23</td>\n",
       "    </tr>\n",
       "  </tbody>\n",
       "</table>\n",
       "</div>"
      ],
      "text/plain": [
       "                     season  holiday  workingday  weather   temp   atemp  \\\n",
       "datetime                                                                   \n",
       "2012-12-19 19:00:00       4        0           1        1  15.58  19.695   \n",
       "2012-12-19 20:00:00       4        0           1        1  14.76  17.425   \n",
       "2012-12-19 21:00:00       4        0           1        1  13.94  15.910   \n",
       "2012-12-19 22:00:00       4        0           1        1  13.94  17.425   \n",
       "2012-12-19 23:00:00       4        0           1        1  13.12  16.665   \n",
       "\n",
       "                     humidity  windspeed  casual  registered  total  hour  \n",
       "datetime                                                                   \n",
       "2012-12-19 19:00:00        50    26.0027       7         329    336    19  \n",
       "2012-12-19 20:00:00        57    15.0013      10         231    241    20  \n",
       "2012-12-19 21:00:00        61    15.0013       4         164    168    21  \n",
       "2012-12-19 22:00:00        61     6.0032      12         117    129    22  \n",
       "2012-12-19 23:00:00        66     8.9981       4          84     88    23  "
      ]
     },
     "execution_count": 11,
     "metadata": {},
     "output_type": "execute_result"
    }
   ],
   "source": [
    "# Celda 4\n",
    "# Lectura de la información de archivo .csv\n",
    "bikes_modelo = pd.read_csv('https://raw.githubusercontent.com/davidzarruk/MIAD_ML_NLP_2023/main/datasets/bikeshare.csv', index_col='datetime', parse_dates=True)\n",
    "\n",
    "# Renombrar variable \"count\" a \"total\"\n",
    "bikes_modelo.rename(columns={'count':'total'}, inplace=True)\n",
    "\n",
    "# Crear la hora como una variable \n",
    "bikes_modelo['hour'] = bikes.index.hour\n",
    "\n",
    "# Visualización de los datos\n",
    "bikes_modelo.tail()"
   ]
  },
  {
   "cell_type": "code",
   "execution_count": 12,
   "metadata": {},
   "outputs": [
    {
     "data": {
      "text/plain": [
       "['season', 'hour']"
      ]
     },
     "execution_count": 12,
     "metadata": {},
     "output_type": "execute_result"
    }
   ],
   "source": [
    "# Selección de variables predictoras\n",
    "feature_cols = ['season', 'hour']\n",
    "feature_cols"
   ]
  },
  {
   "cell_type": "code",
   "execution_count": 13,
   "metadata": {},
   "outputs": [],
   "source": [
    "# Separación de variables predictoras (X) y variable de interes (y)\n",
    "X = bikes_modelo[feature_cols]\n",
    "y = bikes_modelo.total  # Variable de respuesta continua"
   ]
  },
  {
   "cell_type": "code",
   "execution_count": 14,
   "metadata": {},
   "outputs": [],
   "source": [
    "# Definición de la función que calcula el error cuadrático medio\n",
    "def mse(y):\n",
    "    if y.shape[0] == 0:\n",
    "        return 0\n",
    "    else:\n",
    "        return np.mean((y - y.mean()) ** 2)\n",
    "\n"
   ]
  },
  {
   "cell_type": "code",
   "execution_count": 15,
   "metadata": {},
   "outputs": [],
   "source": [
    "# Definición de la función para calcular la ganancia de una variable predictora j dado el punto de corte k\n",
    "def mse_impurity(X_col, y, split):\n",
    "    filter_l = X_col < split\n",
    "    y_l = y.loc[filter_l]\n",
    "    y_r = y.loc[~filter_l]\n",
    "\n",
    "    n_l = y_l.shape[0]\n",
    "    n_r = y_r.shape[0]\n",
    "\n",
    "    mse_y = mse(y)\n",
    "    mse_l = mse(y_l)\n",
    "    mse_r = mse(y_r)\n",
    "\n",
    "    mse_impurity_ = mse_y - (n_l / (n_l + n_r) * mse_l + n_r / (n_l + n_r) * mse_r)\n",
    "\n",
    "    return mse_impurity_\n",
    "\n"
   ]
  },
  {
   "cell_type": "code",
   "execution_count": 16,
   "metadata": {},
   "outputs": [],
   "source": [
    "# Definición de la función best_split para calcular cuál es la mejor variable y punto de corte para hacer la bifurcación del árbol\n",
    "def best_split(X, y, num_pct=10):\n",
    "    features = range(X.shape[1])\n",
    "    best_split = [0, 0, -np.inf]  # j, split, gain\n",
    "\n",
    "    for j in features:\n",
    "        splits = np.percentile(X.iloc[:, j], np.arange(0, 100, 100.0 / (num_pct+1)).tolist())\n",
    "        splits = np.unique(splits)[1:]\n",
    "\n",
    "        for split in splits:\n",
    "            gain = mse_impurity(X.iloc[:, j], y, split)\n",
    "\n",
    "            if gain > best_split[2]:\n",
    "                best_split = [j, split, gain]\n",
    "\n",
    "    return best_split\n",
    "\n",
    "\n"
   ]
  },
  {
   "cell_type": "code",
   "execution_count": 17,
   "metadata": {},
   "outputs": [],
   "source": [
    "# Definición de la función tree_grow para hacer un crecimiento recursivo del árbol\n",
    "def tree_grow(X, y, level=0, min_gain=0.001, max_depth=None, num_pct=10):\n",
    "    if X.shape[0] == 1:\n",
    "        tree = dict(y_pred=y.iloc[:1].values[0], level=level, split=-1, n_samples=1, gain=0)\n",
    "        return tree\n",
    "\n",
    "    j, split, gain = best_split(X, y, num_pct)\n",
    "\n",
    "    y_pred = y.mean()\n",
    "    tree = dict(y_pred=y_pred, level=level, split=-1, n_samples=X.shape[0], gain=gain)\n",
    "\n",
    "    if gain < min_gain:\n",
    "        return tree\n",
    "    if max_depth is not None:\n",
    "        if level >= max_depth:\n",
    "            return tree\n",
    "\n",
    "    filter_l = X.iloc[:, j] < split\n",
    "    X_l, y_l = X.loc[filter_l], y.loc[filter_l]\n",
    "    X_r, y_r = X.loc[~filter_l], y.loc[~filter_l]\n",
    "    tree['split'] = [j, split]\n",
    "\n",
    "    tree['sl'] = tree_grow(X_l, y_l, level + 1, min_gain=min_gain, max_depth=max_depth, num_pct=num_pct)\n",
    "    tree['sr'] = tree_grow(X_r, y_r, level + 1, min_gain=min_gain, max_depth=max_depth, num_pct=num_pct)\n",
    "\n",
    "    return tree\n",
    "\n"
   ]
  },
  {
   "cell_type": "code",
   "execution_count": 18,
   "metadata": {},
   "outputs": [],
   "source": [
    "# Definición de la función tree_predict para hacer predicciones según las variables 'X' y el árbol 'tree'\n",
    "def tree_predict(X, tree):\n",
    "    predicted = np.ones(X.shape[0]) * tree['y_pred']\n",
    "\n",
    "    if tree['split'] != -1:\n",
    "        j, split = tree['split']\n",
    "        filter_l = (X.iloc[:, j] < split)\n",
    "        X_l = X.loc[filter_l]\n",
    "        X_r = X.loc[~filter_l]\n",
    "\n",
    "        if X_l.shape[0] > 0:\n",
    "            predicted[filter_l] = tree_predict(X_l, tree['sl'])\n",
    "        if X_r.shape[0] > 0:\n",
    "            predicted[~filter_l] = tree_predict(X_r, tree['sr'])\n",
    "\n",
    "    return predicted\n",
    "\n"
   ]
  },
  {
   "cell_type": "code",
   "execution_count": 19,
   "metadata": {},
   "outputs": [],
   "source": [
    "# Construcción y predicción del árbol\n",
    "tree = tree_grow(X, y, level=0, min_gain=0.001, max_depth=3, num_pct=10)\n",
    "predictions = tree_predict(X, tree)\n"
   ]
  },
  {
   "cell_type": "code",
   "execution_count": 20,
   "metadata": {},
   "outputs": [
    {
     "data": {
      "text/plain": [
       "array([ 25.17771982,  25.17771982,  25.17771982, ..., 152.47563353,\n",
       "       152.47563353, 152.47563353])"
      ]
     },
     "execution_count": 20,
     "metadata": {},
     "output_type": "execute_result"
    }
   ],
   "source": [
    "predictions"
   ]
  },
  {
   "cell_type": "code",
   "execution_count": 21,
   "metadata": {},
   "outputs": [
    {
     "name": "stdout",
     "output_type": "stream",
     "text": [
      "MSE para el árbol de decisión: 17392.935521570682\n"
     ]
    }
   ],
   "source": [
    "from sklearn.metrics import mean_squared_error\n",
    "\n",
    "# Calcular el MSE para las predicciones del árbol de decisión\n",
    "mse_tree = mean_squared_error(y, predictions)\n",
    "print(\"MSE para el árbol de decisión:\", mse_tree)\n"
   ]
  },
  {
   "cell_type": "code",
   "execution_count": 22,
   "metadata": {},
   "outputs": [
    {
     "name": "stdout",
     "output_type": "stream",
     "text": [
      "Número de nodos en el árbol manual: 15\n"
     ]
    }
   ],
   "source": [
    "def count_nodes(tree):\n",
    "    if tree['split'] == -1:\n",
    "        # Si es un nodo hoja, retorna 1\n",
    "        return 1\n",
    "    else:\n",
    "        # Si no es un nodo hoja, cuenta los nodos en los subárboles izquierdo y derecho\n",
    "        return 1 + count_nodes(tree['sl']) + count_nodes(tree['sr'])\n",
    "\n",
    "# Contar el número de nodos en el árbol manual\n",
    "num_nodes = count_nodes(tree)\n",
    "print(\"Número de nodos en el árbol manual:\", num_nodes)\n"
   ]
  },
  {
   "cell_type": "code",
   "execution_count": 23,
   "metadata": {},
   "outputs": [
    {
     "name": "stdout",
     "output_type": "stream",
     "text": [
      "Coeficiente de determinación R^2 para el árbol de decisión manual: 0.999951303878722\n"
     ]
    }
   ],
   "source": [
    "# Calcular SST\n",
    "SST = sum((y - np.mean(y)) ** 2)\n",
    "\n",
    "# Calcular R^2\n",
    "r2 = 1 - (mse_tree / SST)\n",
    "print(\"Coeficiente de determinación R^2 para el árbol de decisión manual:\", r2)\n"
   ]
  },
  {
   "cell_type": "markdown",
   "metadata": {},
   "source": [
    "### Punto 5 - Árbol de decisión con librería\n",
    "En la celda 5 entrene un árbol de decisiones con la **librería sklearn**, usando las variables predictoras \"season\" y \"hour\" y calibre los parámetros que considere conveniente para obtener un mejor desempeño. Recuerde dividir los datos en conjuntos de entrenamiento y validación para esto. Comente el desempeño del modelo con alguna métrica de desempeño de modelos de regresión y compare desempeño con el modelo del punto 3."
   ]
  },
  {
   "cell_type": "code",
   "execution_count": 33,
   "metadata": {},
   "outputs": [
    {
     "name": "stdout",
     "output_type": "stream",
     "text": [
      "Mean Squared Error: 13870.786495571638\n",
      "Feature Importances: [0.13387087 0.86612913]\n"
     ]
    }
   ],
   "source": [
    "from sklearn.tree import DecisionTreeRegressor\n",
    "from sklearn.model_selection import train_test_split\n",
    "from sklearn.metrics import mean_squared_error\n",
    "\n",
    "feature_cols = ['season', 'hour']\n",
    "X = bikes_modelo[feature_cols]\n",
    "y = bikes_modelo.total  # Variable de respuesta continua\n",
    "\n",
    "# Dividir los datos en conjuntos de entrenamiento y prueba\n",
    "X_train, X_test, y_train, y_test = train_test_split(X, y, test_size=0.3, random_state=42)\n",
    "\n",
    "# Instanciar y entrenar el modelo\n",
    "regressor = DecisionTreeRegressor(max_depth=7, random_state=42)\n",
    "regressor.fit(X_train, y_train)\n",
    "\n",
    "# Hacer predicciones\n",
    "y_pred = regressor.predict(X_test)\n",
    "\n",
    "# Calcular el error cuadrático medio\n",
    "mse = mean_squared_error(y_test, y_pred)\n",
    "print(\"Mean Squared Error:\", mse)\n",
    "\n",
    "# Para obtener la importancia de las características\n",
    "print(\"Feature Importances:\", regressor.feature_importances_)\n",
    "\n"
   ]
  },
  {
   "cell_type": "code",
   "execution_count": 34,
   "metadata": {},
   "outputs": [
    {
     "name": "stdout",
     "output_type": "stream",
     "text": [
      "Coeficiente de determinación R^2: 0.5737350742814777\n"
     ]
    }
   ],
   "source": [
    "from sklearn.metrics import r2_score\n",
    "\n",
    "# Calcular R^2\n",
    "r2 = r2_score(y_test, y_pred)\n",
    "print(\"Coeficiente de determinación R^2:\", r2)\n"
   ]
  },
  {
   "cell_type": "code",
   "execution_count": 35,
   "metadata": {},
   "outputs": [
    {
     "data": {
      "image/png": "[encoded data removed]",
      "text/plain": [
       "<Figure size 432x288 with 1 Axes>"
      ]
     },
     "metadata": {
      "needs_background": "light"
     },
     "output_type": "display_data"
    }
   ],
   "source": [
    "import matplotlib.pyplot as plt\n",
    "\n",
    "# Valores de MSE para cada modelo\n",
    "mse_values = [mse_tree, mse, mse_linear]\n",
    "\n",
    "# Nombres de los modelos\n",
    "model_names = ['Árbol Manual', 'Árbol sklearn', 'Regresión Lineal']\n",
    "\n",
    "# Crear el gráfico de barras\n",
    "bars = plt.bar(model_names, mse_values, color=['blue', 'green', 'red'])\n",
    "\n",
    "# Añadir título y etiquetas para los ejes\n",
    "plt.title('Comparación de MSE entre modelos')\n",
    "plt.ylabel('MSE')\n",
    "\n",
    "# Añadir el valor numérico encima de cada barra\n",
    "for bar in bars:\n",
    "    yval = bar.get_height()\n",
    "    plt.text(bar.get_x() + bar.get_width()/2, yval + 0.005, round(yval, 4), ha='center', va='bottom')\n",
    "\n",
    "# Mostrar el gráfico\n",
    "plt.show()\n",
    "\n"
   ]
  },
  {
   "cell_type": "markdown",
   "metadata": {},
   "source": [
    "La mejora en el desempeño de los árboles de decisión en comparación con el modelo lineal es significativa. El árbol de decisión construido manualmente muestra un rendimiento superior al modelo de `sklearn`, con un total de 15 nodos. Sin embargo, es importante destacar que el coeficiente de determinación \\( R^2 \\) obtenido para el árbol manual es de 0.99, mientras que para el árbol de `sklearn` es de 0.44 con un `max_depth` de 3, y aumenta a 0.57 al ajustarlo a 7. \n",
    "\n",
    "Al considerar el error cuadrático medio (MSE), observamos una mejora significativa en el árbol de `sklearn`, que pasó a tener un MSE de 13870, mientras que el árbol manual tuvo un MSE de 17392 y el modelo de regresión lineal, el peor de los tres, tuvo un MSE de 1439616. Esta mejora indica que los árboles de decisión están mejorando la capacidad de ajuste a los datos en comparación con el modelo lineal.\n",
    "\n",
    "La diferencia en los resultados de \\( R^2 \\) puede atribuirse al hecho de que en el árbol manual se utilizan todos los datos para construir el modelo, lo que puede resultar en un sobreajuste (overfitting). Esto significa que el modelo se ajusta demasiado a los datos de entrenamiento y puede no generalizar bien a nuevos datos. Para obtener una evaluación más precisa del rendimiento de los modelos, es recomendable dividir los datos en conjuntos de entrenamiento y prueba, y evaluar los modelos en el conjunto de prueba para verificar su capacidad de generalización a nuevos datos."
   ]
  },
  {
   "cell_type": "markdown",
   "metadata": {},
   "source": [
    "## Parte B - Métodos de ensamblajes\n",
    "En esta parte del taller se usará el conjunto de datos de Popularidad de Noticias Online. El objetivo es predecir si la notica es popular o no, la popularidad está dada por la cantidad de reacciones en redes sociales. Para más detalles puede visitar el siguiente enlace: [datos](https://archive.ics.uci.edu/ml/datasets/online+news+popularity)."
   ]
  },
  {
   "cell_type": "markdown",
   "metadata": {},
   "source": [
    "### Datos popularidad de noticias"
   ]
  },
  {
   "cell_type": "code",
   "execution_count": 26,
   "metadata": {},
   "outputs": [
    {
     "data": {
      "text/html": [
       "<div>\n",
       "<style scoped>\n",
       "    .dataframe tbody tr th:only-of-type {\n",
       "        vertical-align: middle;\n",
       "    }\n",
       "\n",
       "    .dataframe tbody tr th {\n",
       "        vertical-align: top;\n",
       "    }\n",
       "\n",
       "    .dataframe thead th {\n",
       "        text-align: right;\n",
       "    }\n",
       "</style>\n",
       "<table border=\"1\" class=\"dataframe\">\n",
       "  <thead>\n",
       "    <tr style=\"text-align: right;\">\n",
       "      <th></th>\n",
       "      <th>url</th>\n",
       "      <th>timedelta</th>\n",
       "      <th>n_tokens_title</th>\n",
       "      <th>n_tokens_content</th>\n",
       "      <th>n_unique_tokens</th>\n",
       "      <th>n_non_stop_words</th>\n",
       "      <th>n_non_stop_unique_tokens</th>\n",
       "      <th>num_hrefs</th>\n",
       "      <th>num_self_hrefs</th>\n",
       "      <th>num_imgs</th>\n",
       "      <th>...</th>\n",
       "      <th>min_positive_polarity</th>\n",
       "      <th>max_positive_polarity</th>\n",
       "      <th>avg_negative_polarity</th>\n",
       "      <th>min_negative_polarity</th>\n",
       "      <th>max_negative_polarity</th>\n",
       "      <th>title_subjectivity</th>\n",
       "      <th>title_sentiment_polarity</th>\n",
       "      <th>abs_title_subjectivity</th>\n",
       "      <th>abs_title_sentiment_polarity</th>\n",
       "      <th>Popular</th>\n",
       "    </tr>\n",
       "  </thead>\n",
       "  <tbody>\n",
       "    <tr>\n",
       "      <th>0</th>\n",
       "      <td>http://mashable.com/2014/12/10/cia-torture-rep...</td>\n",
       "      <td>28.0</td>\n",
       "      <td>9.0</td>\n",
       "      <td>188.0</td>\n",
       "      <td>0.732620</td>\n",
       "      <td>1.0</td>\n",
       "      <td>0.844262</td>\n",
       "      <td>5.0</td>\n",
       "      <td>1.0</td>\n",
       "      <td>1.0</td>\n",
       "      <td>...</td>\n",
       "      <td>0.200000</td>\n",
       "      <td>0.80</td>\n",
       "      <td>-0.487500</td>\n",
       "      <td>-0.60</td>\n",
       "      <td>-0.250000</td>\n",
       "      <td>0.9</td>\n",
       "      <td>0.8</td>\n",
       "      <td>0.4</td>\n",
       "      <td>0.8</td>\n",
       "      <td>1</td>\n",
       "    </tr>\n",
       "    <tr>\n",
       "      <th>1</th>\n",
       "      <td>http://mashable.com/2013/10/18/bitlock-kicksta...</td>\n",
       "      <td>447.0</td>\n",
       "      <td>7.0</td>\n",
       "      <td>297.0</td>\n",
       "      <td>0.653199</td>\n",
       "      <td>1.0</td>\n",
       "      <td>0.815789</td>\n",
       "      <td>9.0</td>\n",
       "      <td>4.0</td>\n",
       "      <td>1.0</td>\n",
       "      <td>...</td>\n",
       "      <td>0.160000</td>\n",
       "      <td>0.50</td>\n",
       "      <td>-0.135340</td>\n",
       "      <td>-0.40</td>\n",
       "      <td>-0.050000</td>\n",
       "      <td>0.1</td>\n",
       "      <td>-0.1</td>\n",
       "      <td>0.4</td>\n",
       "      <td>0.1</td>\n",
       "      <td>0</td>\n",
       "    </tr>\n",
       "    <tr>\n",
       "      <th>2</th>\n",
       "      <td>http://mashable.com/2013/07/24/google-glass-po...</td>\n",
       "      <td>533.0</td>\n",
       "      <td>11.0</td>\n",
       "      <td>181.0</td>\n",
       "      <td>0.660377</td>\n",
       "      <td>1.0</td>\n",
       "      <td>0.775701</td>\n",
       "      <td>4.0</td>\n",
       "      <td>3.0</td>\n",
       "      <td>1.0</td>\n",
       "      <td>...</td>\n",
       "      <td>0.136364</td>\n",
       "      <td>1.00</td>\n",
       "      <td>0.000000</td>\n",
       "      <td>0.00</td>\n",
       "      <td>0.000000</td>\n",
       "      <td>0.3</td>\n",
       "      <td>1.0</td>\n",
       "      <td>0.2</td>\n",
       "      <td>1.0</td>\n",
       "      <td>0</td>\n",
       "    </tr>\n",
       "    <tr>\n",
       "      <th>3</th>\n",
       "      <td>http://mashable.com/2013/11/21/these-are-the-m...</td>\n",
       "      <td>413.0</td>\n",
       "      <td>12.0</td>\n",
       "      <td>781.0</td>\n",
       "      <td>0.497409</td>\n",
       "      <td>1.0</td>\n",
       "      <td>0.677350</td>\n",
       "      <td>10.0</td>\n",
       "      <td>3.0</td>\n",
       "      <td>1.0</td>\n",
       "      <td>...</td>\n",
       "      <td>0.100000</td>\n",
       "      <td>1.00</td>\n",
       "      <td>-0.195701</td>\n",
       "      <td>-0.40</td>\n",
       "      <td>-0.071429</td>\n",
       "      <td>0.0</td>\n",
       "      <td>0.0</td>\n",
       "      <td>0.5</td>\n",
       "      <td>0.0</td>\n",
       "      <td>0</td>\n",
       "    </tr>\n",
       "    <tr>\n",
       "      <th>4</th>\n",
       "      <td>http://mashable.com/2014/02/11/parking-ticket-...</td>\n",
       "      <td>331.0</td>\n",
       "      <td>8.0</td>\n",
       "      <td>177.0</td>\n",
       "      <td>0.685714</td>\n",
       "      <td>1.0</td>\n",
       "      <td>0.830357</td>\n",
       "      <td>3.0</td>\n",
       "      <td>2.0</td>\n",
       "      <td>1.0</td>\n",
       "      <td>...</td>\n",
       "      <td>0.100000</td>\n",
       "      <td>0.55</td>\n",
       "      <td>-0.175000</td>\n",
       "      <td>-0.25</td>\n",
       "      <td>-0.100000</td>\n",
       "      <td>0.0</td>\n",
       "      <td>0.0</td>\n",
       "      <td>0.5</td>\n",
       "      <td>0.0</td>\n",
       "      <td>0</td>\n",
       "    </tr>\n",
       "  </tbody>\n",
       "</table>\n",
       "<p>5 rows × 61 columns</p>\n",
       "</div>"
      ],
      "text/plain": [
       "                                                 url  timedelta  \\\n",
       "0  http://mashable.com/2014/12/10/cia-torture-rep...       28.0   \n",
       "1  http://mashable.com/2013/10/18/bitlock-kicksta...      447.0   \n",
       "2  http://mashable.com/2013/07/24/google-glass-po...      533.0   \n",
       "3  http://mashable.com/2013/11/21/these-are-the-m...      413.0   \n",
       "4  http://mashable.com/2014/02/11/parking-ticket-...      331.0   \n",
       "\n",
       "   n_tokens_title  n_tokens_content  n_unique_tokens  n_non_stop_words  \\\n",
       "0             9.0             188.0         0.732620               1.0   \n",
       "1             7.0             297.0         0.653199               1.0   \n",
       "2            11.0             181.0         0.660377               1.0   \n",
       "3            12.0             781.0         0.497409               1.0   \n",
       "4             8.0             177.0         0.685714               1.0   \n",
       "\n",
       "   n_non_stop_unique_tokens  num_hrefs  num_self_hrefs  num_imgs  ...  \\\n",
       "0                  0.844262        5.0             1.0       1.0  ...   \n",
       "1                  0.815789        9.0             4.0       1.0  ...   \n",
       "2                  0.775701        4.0             3.0       1.0  ...   \n",
       "3                  0.677350       10.0             3.0       1.0  ...   \n",
       "4                  0.830357        3.0             2.0       1.0  ...   \n",
       "\n",
       "   min_positive_polarity  max_positive_polarity  avg_negative_polarity  \\\n",
       "0               0.200000                   0.80              -0.487500   \n",
       "1               0.160000                   0.50              -0.135340   \n",
       "2               0.136364                   1.00               0.000000   \n",
       "3               0.100000                   1.00              -0.195701   \n",
       "4               0.100000                   0.55              -0.175000   \n",
       "\n",
       "   min_negative_polarity  max_negative_polarity  title_subjectivity  \\\n",
       "0                  -0.60              -0.250000                 0.9   \n",
       "1                  -0.40              -0.050000                 0.1   \n",
       "2                   0.00               0.000000                 0.3   \n",
       "3                  -0.40              -0.071429                 0.0   \n",
       "4                  -0.25              -0.100000                 0.0   \n",
       "\n",
       "   title_sentiment_polarity  abs_title_subjectivity  \\\n",
       "0                       0.8                     0.4   \n",
       "1                      -0.1                     0.4   \n",
       "2                       1.0                     0.2   \n",
       "3                       0.0                     0.5   \n",
       "4                       0.0                     0.5   \n",
       "\n",
       "   abs_title_sentiment_polarity  Popular  \n",
       "0                           0.8        1  \n",
       "1                           0.1        0  \n",
       "2                           1.0        0  \n",
       "3                           0.0        0  \n",
       "4                           0.0        0  \n",
       "\n",
       "[5 rows x 61 columns]"
      ]
     },
     "execution_count": 26,
     "metadata": {},
     "output_type": "execute_result"
    }
   ],
   "source": [
    "# Lectura de la información de archivo .csv\n",
    "df = pd.read_csv('https://raw.githubusercontent.com/davidzarruk/MIAD_ML_NLP_2023/main/datasets/mashable.csv', index_col=0)\n",
    "df.head()"
   ]
  },
  {
   "cell_type": "code",
   "execution_count": 27,
   "metadata": {},
   "outputs": [
    {
     "data": {
      "text/plain": [
       "0.5"
      ]
     },
     "execution_count": 27,
     "metadata": {},
     "output_type": "execute_result"
    }
   ],
   "source": [
    "# Definición variable de interes y variables predictoras\n",
    "X = df.drop(['url', 'Popular'], axis=1)\n",
    "y = df['Popular']\n",
    "y.mean()"
   ]
  },
  {
   "cell_type": "code",
   "execution_count": 28,
   "metadata": {},
   "outputs": [],
   "source": [
    "# División de la muestra en set de entrenamiento y prueba\n",
    "from sklearn.model_selection import train_test_split\n",
    "X_train, X_test, y_train, y_test = train_test_split(X, y, random_state=1)"
   ]
  },
  {
   "cell_type": "markdown",
   "metadata": {},
   "source": [
    "### Punto 6 - Árbol de decisión y regresión logística\n",
    "En la celda 6 construya un árbol de decisión y una regresión logística. Para el árbol calibre al menos un parámetro y evalúe el desempeño de cada modelo usando las métricas de Accuracy y F1-Score."
   ]
  },
  {
   "cell_type": "code",
   "execution_count": 29,
   "metadata": {},
   "outputs": [
    {
     "data": {
      "text/plain": [
       "LogisticRegression(max_iter=1000, random_state=1)"
      ]
     },
     "execution_count": 29,
     "metadata": {},
     "output_type": "execute_result"
    }
   ],
   "source": [
    "# Celda 6\n",
    "import pandas as pd\n",
    "from sklearn.model_selection import train_test_split\n",
    "from sklearn.tree import DecisionTreeClassifier\n",
    "from sklearn.linear_model import LogisticRegression\n",
    "from sklearn.metrics import accuracy_score, f1_score\n",
    "\n",
    "# Construcción y entrenamiento del árbol de decisión\n",
    "tree = DecisionTreeClassifier(max_depth=5, random_state=1)\n",
    "tree.fit(X_train, y_train)\n",
    "\n",
    "# Construcción y entrenamiento de la regresión logística\n",
    "log_reg = LogisticRegression(max_iter=1000, random_state=1)\n",
    "log_reg.fit(X_train, y_train)\n",
    "\n"
   ]
  },
  {
   "cell_type": "code",
   "execution_count": 30,
   "metadata": {},
   "outputs": [
    {
     "name": "stdout",
     "output_type": "stream",
     "text": [
      "Árbol de decisión - Accuracy: 0.6373333333333333 F1-Score: 0.6616915422885573\n",
      "Regresión logística - Accuracy: 0.6193333333333333 F1-Score: 0.6064782908339076\n"
     ]
    }
   ],
   "source": [
    "# Predicciones con el árbol de decisión\n",
    "y_pred_tree = tree.predict(X_test)\n",
    "\n",
    "# Predicciones con la regresión logística\n",
    "y_pred_log_reg = log_reg.predict(X_test)\n",
    "\n",
    "# Evaluación del desempeño con Accuracy y F1-Score para el árbol de decisión\n",
    "accuracy_tree = accuracy_score(y_test, y_pred_tree)\n",
    "f1_score_tree = f1_score(y_test, y_pred_tree)\n",
    "\n",
    "# Evaluación del desempeño con Accuracy y F1-Score para la regresión logística\n",
    "accuracy_log_reg = accuracy_score(y_test, y_pred_log_reg)\n",
    "f1_score_log_reg = f1_score(y_test, y_pred_log_reg)\n",
    "\n",
    "# Impresión de los resultados\n",
    "print(\"Árbol de decisión - Accuracy:\", accuracy_tree, \"F1-Score:\", f1_score_tree)\n",
    "print(\"Regresión logística - Accuracy:\", accuracy_log_reg, \"F1-Score:\", f1_score_log_reg)\n"
   ]
  },
  {
   "cell_type": "markdown",
   "metadata": {},
   "source": [
    "### Punto 7 - Votación Mayoritaria\n",
    "En la celda 7 elabore un esamble con la metodología de **Votación mayoritaria** compuesto por 300 muestras bagged para cada uno de los siguientes escenarios:\n",
    "\n",
    "-100 árboles de decisión donde max_depth tome un valor de su elección\\\n",
    "-100 árboles de decisión donde min_samples_leaf tome un valor de su elección\\\n",
    "-100 regresiones logísticas\n",
    "\n",
    "Evalúe cada uno de los tres modelos de manera independiente utilizando las métricas de Accuracy y F1-Score, luego evalúe el ensamble de modelos y compare los resultados. "
   ]
  },
  {
   "cell_type": "code",
   "execution_count": 31,
   "metadata": {},
   "outputs": [],
   "source": [
    "# Celda 7\n",
    "from sklearn.ensemble import BaggingClassifier\n"
   ]
  },
  {
   "cell_type": "code",
   "execution_count": 32,
   "metadata": {},
   "outputs": [
    {
     "data": {
      "text/plain": [
       "BaggingClassifier(base_estimator=LogisticRegression(max_iter=1000,\n",
       "                                                    random_state=1),\n",
       "                  n_estimators=100, random_state=1)"
      ]
     },
     "execution_count": 32,
     "metadata": {},
     "output_type": "execute_result"
    }
   ],
   "source": [
    "# 100 árboles de decisión con max_depth\n",
    "tree_max_depth = DecisionTreeClassifier(max_depth=5, random_state=1)\n",
    "bagged_tree_max_depth = BaggingClassifier(base_estimator=tree_max_depth, n_estimators=100, random_state=1)\n",
    "bagged_tree_max_depth.fit(X_train, y_train)\n",
    "\n",
    "# 100 árboles de decisión con min_samples_leaf\n",
    "tree_min_samples_leaf = DecisionTreeClassifier(min_samples_leaf=4, random_state=1)\n",
    "bagged_tree_min_samples_leaf = BaggingClassifier(base_estimator=tree_min_samples_leaf, n_estimators=100, random_state=1)\n",
    "bagged_tree_min_samples_leaf.fit(X_train, y_train)\n",
    "\n",
    "# 100 regresiones logísticas\n",
    "log_reg = LogisticRegression(max_iter=1000, random_state=1)\n",
    "bagged_log_reg = BaggingClassifier(base_estimator=log_reg, n_estimators=100, random_state=1)\n",
    "bagged_log_reg.fit(X_train, y_train)\n"
   ]
  },
  {
   "cell_type": "code",
   "execution_count": 33,
   "metadata": {},
   "outputs": [],
   "source": [
    "# Predicciones y evaluación para el árbol de decisión con max_depth\n",
    "y_pred_tree_max_depth = bagged_tree_max_depth.predict(X_test)\n",
    "accuracy_tree_max_depth = accuracy_score(y_test, y_pred_tree_max_depth)\n",
    "f1_score_tree_max_depth = f1_score(y_test, y_pred_tree_max_depth)\n",
    "\n",
    "# Predicciones y evaluación para el árbol de decisión con min_samples_leaf\n",
    "y_pred_tree_min_samples_leaf = bagged_tree_min_samples_leaf.predict(X_test)\n",
    "accuracy_tree_min_samples_leaf = accuracy_score(y_test, y_pred_tree_min_samples_leaf)\n",
    "f1_score_tree_min_samples_leaf = f1_score(y_test, y_pred_tree_min_samples_leaf)\n",
    "\n",
    "# Predicciones y evaluación para la regresión logística\n",
    "y_pred_log_reg = bagged_log_reg.predict(X_test)\n",
    "accuracy_log_reg = accuracy_score(y_test, y_pred_log_reg)\n",
    "f1_score_log_reg = f1_score(y_test, y_pred_log_reg)\n"
   ]
  },
  {
   "cell_type": "code",
   "execution_count": 34,
   "metadata": {},
   "outputs": [
    {
     "name": "stdout",
     "output_type": "stream",
     "text": [
      "Árbol de decisión con max_depth - Accuracy: 0.66 F1-Score: 0.6599999999999999\n",
      "Árbol de decisión con min_samples_leaf - Accuracy: 0.646 F1-Score: 0.6490416391275612\n",
      "Regresión logística - Accuracy: 0.6153333333333333 F1-Score: 0.6039807824296499\n",
      "Ensamble de modelos - Accuracy: 0.6513333333333333 F1-Score: 0.6515656229180546\n"
     ]
    }
   ],
   "source": [
    "from sklearn.ensemble import VotingClassifier\n",
    "\n",
    "# Crear el ensamble de modelos\n",
    "ensemble = VotingClassifier(estimators=[\n",
    "    ('tree_max_depth', bagged_tree_max_depth),\n",
    "    ('tree_min_samples_leaf', bagged_tree_min_samples_leaf),\n",
    "    ('log_reg', bagged_log_reg)\n",
    "], voting='hard')\n",
    "\n",
    "# Entrenar el ensamble\n",
    "ensemble.fit(X_train, y_train)\n",
    "\n",
    "# Realizar predicciones y evaluar el ensamble\n",
    "y_pred_ensemble = ensemble.predict(X_test)\n",
    "accuracy_ensemble = accuracy_score(y_test, y_pred_ensemble)\n",
    "f1_score_ensemble = f1_score(y_test, y_pred_ensemble)\n",
    "\n",
    "# Imprimir los resultados\n",
    "print(\"Árbol de decisión con max_depth - Accuracy:\", accuracy_tree_max_depth, \"F1-Score:\", f1_score_tree_max_depth)\n",
    "print(\"Árbol de decisión con min_samples_leaf - Accuracy:\", accuracy_tree_min_samples_leaf, \"F1-Score:\", f1_score_tree_min_samples_leaf)\n",
    "print(\"Regresión logística - Accuracy:\", accuracy_log_reg, \"F1-Score:\", f1_score_log_reg)\n",
    "print(\"Ensamble de modelos - Accuracy:\", accuracy_ensemble, \"F1-Score:\", f1_score_ensemble)\n",
    "\n"
   ]
  },
  {
   "cell_type": "markdown",
   "metadata": {},
   "source": [
    "### Punto 8 - Votación Ponderada\n",
    "En la celda 8 elabore un ensamble con la metodología de **Votación ponderada** compuesto por 300 muestras bagged para los mismos tres escenarios del punto 7. Evalúe los modelos utilizando las métricas de Accuracy y F1-Score"
   ]
  },
  {
   "cell_type": "code",
   "execution_count": 35,
   "metadata": {},
   "outputs": [],
   "source": [
    "# Celda 8\n",
    "from sklearn.ensemble import VotingClassifier\n"
   ]
  },
  {
   "cell_type": "code",
   "execution_count": 36,
   "metadata": {},
   "outputs": [
    {
     "data": {
      "text/plain": [
       "VotingClassifier(estimators=[('tree_max_depth',\n",
       "                              BaggingClassifier(base_estimator=DecisionTreeClassifier(max_depth=5,\n",
       "                                                                                      random_state=1),\n",
       "                                                n_estimators=100,\n",
       "                                                random_state=1)),\n",
       "                             ('tree_min_samples_leaf',\n",
       "                              BaggingClassifier(base_estimator=DecisionTreeClassifier(min_samples_leaf=4,\n",
       "                                                                                      random_state=1),\n",
       "                                                n_estimators=100,\n",
       "                                                random_state=1)),\n",
       "                             ('log_reg',\n",
       "                              BaggingClassifier(base_estimator=LogisticRegression(max_iter=1000,\n",
       "                                                                                  random_state=1),\n",
       "                                                n_estimators=100,\n",
       "                                                random_state=1))],\n",
       "                 voting='soft', weights=[1, 1, 1])"
      ]
     },
     "execution_count": 36,
     "metadata": {},
     "output_type": "execute_result"
    }
   ],
   "source": [
    "# Crear el ensamble de modelos con votación ponderada\n",
    "ensemble_weighted = VotingClassifier(estimators=[\n",
    "    ('tree_max_depth', bagged_tree_max_depth),\n",
    "    ('tree_min_samples_leaf', bagged_tree_min_samples_leaf),\n",
    "    ('log_reg', bagged_log_reg)\n",
    "], voting='soft', weights=[1, 1, 1])  # Puedes ajustar los pesos según desees\n",
    "\n",
    "# Entrenar el ensamble\n",
    "ensemble_weighted.fit(X_train, y_train)\n"
   ]
  },
  {
   "cell_type": "code",
   "execution_count": 37,
   "metadata": {},
   "outputs": [
    {
     "name": "stdout",
     "output_type": "stream",
     "text": [
      "Ensamble de modelos con votación ponderada - Accuracy: 0.652 F1-Score: 0.6556728232189973\n"
     ]
    }
   ],
   "source": [
    "# Realizar predicciones y evaluar el ensamble ponderado\n",
    "y_pred_ensemble_weighted = ensemble_weighted.predict(X_test)\n",
    "accuracy_ensemble_weighted = accuracy_score(y_test, y_pred_ensemble_weighted)\n",
    "f1_score_ensemble_weighted = f1_score(y_test, y_pred_ensemble_weighted)\n",
    "\n",
    "# Imprimir los resultados\n",
    "print(\"Ensamble de modelos con votación ponderada - Accuracy:\", accuracy_ensemble_weighted, \"F1-Score:\", f1_score_ensemble_weighted)\n"
   ]
  },
  {
   "cell_type": "markdown",
   "metadata": {},
   "source": [
    "### Punto 9 - Comparación y análisis de resultados\n",
    "En la celda 9 comente sobre los resultados obtenidos con las metodologías usadas en los puntos 7 y 8, compare los resultados y enuncie posibles ventajas o desventajas de cada una de ellas."
   ]
  },
  {
   "cell_type": "code",
   "execution_count": 38,
   "metadata": {},
   "outputs": [
    {
     "data": {
      "image/png": "[encoded data removed]",
      "text/plain": [
       "<Figure size 720x360 with 1 Axes>"
      ]
     },
     "metadata": {
      "needs_background": "light"
     },
     "output_type": "display_data"
    },
    {
     "data": {
      "image/png": "[encoded data removed]",
      "text/plain": [
       "<Figure size 720x360 with 1 Axes>"
      ]
     },
     "metadata": {
      "needs_background": "light"
     },
     "output_type": "display_data"
    }
   ],
   "source": [
    "import matplotlib.pyplot as plt\n",
    "\n",
    "# Datos de los modelos\n",
    "model_names = ['Árbol Max Depth', 'Árbol Min Samples Leaf', 'Regresión Logística', 'Ensamble Mayoritario', 'Ensamble Ponderado']\n",
    "accuracies = [accuracy_tree_max_depth, accuracy_tree_min_samples_leaf, accuracy_log_reg, accuracy_ensemble, accuracy_ensemble_weighted]\n",
    "f1_scores = [f1_score_tree_max_depth, f1_score_tree_min_samples_leaf, f1_score_log_reg, f1_score_ensemble, f1_score_ensemble_weighted]\n",
    "\n",
    "# Crear el gráfico de barras para Accuracy\n",
    "plt.figure(figsize=(10, 5))\n",
    "bars_accuracy = plt.bar(model_names, accuracies, color='blue', alpha=0.6, label='Accuracy')\n",
    "plt.ylabel('Accuracy')\n",
    "plt.title('Comparación de Accuracy entre modelos y ensambles')\n",
    "plt.xticks(rotation=45)\n",
    "plt.legend()\n",
    "\n",
    "# Añadir etiquetas de valor encima de cada barra\n",
    "for bar in bars_accuracy:\n",
    "    yval = bar.get_height()\n",
    "    plt.text(bar.get_x() + bar.get_width()/2, yval, round(yval, 2), ha='center', va='bottom')\n",
    "\n",
    "plt.show()\n",
    "\n",
    "# Crear el gráfico de barras para F1-Score\n",
    "plt.figure(figsize=(10, 5))\n",
    "bars_f1_score = plt.bar(model_names, f1_scores, color='green', alpha=0.6, label='F1-Score')\n",
    "plt.ylabel('F1-Score')\n",
    "plt.title('Comparación de F1-Score entre modelos y ensambles')\n",
    "plt.xticks(rotation=45)\n",
    "plt.legend()\n",
    "\n",
    "# Añadir etiquetas de valor encima de cada barra\n",
    "for bar in bars_f1_score:\n",
    "    yval = bar.get_height()\n",
    "    plt.text(bar.get_x() + bar.get_width()/2, yval, round(yval, 2), ha='center', va='bottom')\n",
    "\n",
    "plt.show()\n",
    "\n"
   ]
  },
  {
   "cell_type": "markdown",
   "metadata": {},
   "source": [
    "En este análisis, se compararon diferentes modelos para predecir la popularidad de artículos en base a características del contenido. El árbol de decisión con restricción de profundidad máxima demostró tener el mejor desempeño, logrando un equilibrio entre precisión (Accuracy) y la métrica F1-Score, ambas con un valor de 0.66. Esta restricción ayuda a prevenir el sobreajuste, lo que puede explicar su éxito en este caso. Sin embargo, es importante elegir cuidadosamente la profundidad máxima para evitar modelos demasiado simplificados o complejos.\n",
    "\n",
    "Por otro lado, la regresión logística tuvo el rendimiento más bajo con un Accuracy de 0.62 y un F1-Score de 0.60. Aunque este modelo es más simple y fácil de interpretar, puede no ser adecuado para capturar relaciones complejas entre las variables, lo que podría explicar su menor desempeño en comparación con los árboles de decisión.\n",
    "\n",
    "En cuanto a los ensambles de modelos, aunque tiene resultados un poco mas bajops que el max con 0.65, generalmente ofrecen la ventaja de mejorar la estabilidad y la precisión de las predicciones combinando las fortalezas de varios modelos. Sin embargo, esto viene con un aumento en la complejidad computacional y una disminución en la interpretabilidad.\n"
   ]
  }
 ],
 "metadata": {
  "kernelspec": {
   "display_name": "Python 3 (ipykernel)",
   "language": "python",
   "name": "python3"
  },
  "language_info": {
   "codemirror_mode": {
    "name": "ipython",
    "version": 3
   },
   "file_extension": ".py",
   "mimetype": "text/x-python",
   "name": "python",
   "nbconvert_exporter": "python",
   "pygments_lexer": "ipython3",
   "version": "3.9.12"
  }
 },
 "nbformat": 4,
 "nbformat_minor": 4
}
